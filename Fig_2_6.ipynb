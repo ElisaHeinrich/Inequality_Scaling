{
 "cells": [
  {
   "cell_type": "markdown",
   "metadata": {},
   "source": [
    "# City Income Distribution Analysis\n",
    "This code analyzes census data on income by census tract in US Metropolitan Areas and Micro Areas."
   ]
  },
  {
   "cell_type": "code",
   "execution_count": 1,
   "metadata": {},
   "outputs": [],
   "source": [
    "import pandas as pd\n",
    "import numpy as np\n",
    "import matplotlib.pyplot as plt\n",
    "import sklearn.metrics as sk\n",
    "import scipy.stats\n",
    "from scipy.optimize import curve_fit\n",
    "# from RegscorePy import *\n",
    "from IPython.core.debugger import set_trace\n",
    "import seaborn as sns\n",
    "import scipy.integrate as integrate\n",
    "from matplotlib.animation import FuncAnimation\n",
    "from IPython.display import HTML\n",
    "\n",
    "import matplotlib.lines as mlines\n",
    "import matplotlib.ticker as mtick\n",
    "\n",
    "\n",
    "# import lmfit\n",
    "\n",
    "#import lmfit\n",
    "##### This script is to analyze city-by-city income distributions"
   ]
  },
  {
   "cell_type": "markdown",
   "metadata": {},
   "source": [
    "# Process raw data"
   ]
  },
  {
   "cell_type": "code",
   "execution_count": 2,
   "metadata": {},
   "outputs": [],
   "source": [
    "data = pd.read_csv(\"CTScalingFiles/ct.distr.csv\")\n",
    "idmappings = pd.read_excel(\"CTScalingFiles/cbsaidmappings.xls\").set_index(\"CBSA Code\")\n",
    "\n",
    "\n",
    "# NOTE: one msa has population of 20 million which seems like way too much...\n",
    "# DONE: It's NYC, which in its MSA does indeed have that many people\n",
    "\n",
    "\n",
    "# maps MSA id to census tract incomes\n",
    "income_lists = {}\n",
    "# maps MSA id to census tract population\n",
    "pops = {}\n",
    "fullpops = {}\n",
    "cts = set()\n",
    "i = 0\n",
    "# populations of whole cities (DONE: Cross-check with other data)\n",
    "city_pops = {}\n",
    "\n",
    "metro_ids = set()\n",
    "micro_ids = set()\n",
    "for _,ct in data.iterrows():\n",
    "    i +=1\n",
    "    msa = ct['msa']\n",
    "    ct_id = ct[\"ct\"]\n",
    "    \n",
    "    #NOTE on data: \"meandollars is total ct income / # workers... \"\n",
    "    ct_inc = ct[\"ct.meandollars\"]\n",
    "    pop = ct[\"ct.totalworkers\"]\n",
    "    fullpop = ct[\"ct.population\"]\n",
    "    if (ct[\"ct\"],msa) in cts:\n",
    "        print(\"WARNING! Found Double census tract id: \"+str(ct[\"ct\"]))\n",
    "        set_trace()\n",
    "    cts.add((ct[\"ct\"],msa))\n",
    "    \n",
    "    if msa not in city_pops:\n",
    "        city_pops[msa] = ct[\"pop.sum\"]\n",
    "    \n",
    "    if msa not in income_lists or msa not in pops:\n",
    "        income_lists[msa] = []\n",
    "        pops[msa] = []\n",
    "        fullpops[msa] = []\n",
    "    income_lists[msa].append(ct_inc)\n",
    "    pops[msa].append(pop)\n",
    "    fullpops[msa].append(fullpop)\n",
    "    msa = str(msa)\n",
    "    metro_micro_lbl = idmappings[\"Metropolitan/Micropolitan Statistical Area\"][msa]\n",
    "    if not isinstance(metro_micro_lbl,str):\n",
    "        metro_micro_lbl = list(metro_micro_lbl)[0]\n",
    "    metro = \"Metro\" in metro_micro_lbl\n",
    "    if metro:\n",
    "        metro_ids.add(msa)\n",
    "    else:\n",
    "        micro_ids.add(msa)\n",
    "\n"
   ]
  },
  {
   "cell_type": "markdown",
   "metadata": {},
   "source": [
    "### This is just to test how many census tracts there are in different cities"
   ]
  },
  {
   "cell_type": "code",
   "execution_count": 3,
   "metadata": {},
   "outputs": [
    {
     "data": {
      "image/png": "[encoded data removed]",
      "text/plain": [
       "<Figure size 432x288 with 1 Axes>"
      ]
     },
     "metadata": {
      "needs_background": "light"
     },
     "output_type": "display_data"
    }
   ],
   "source": [
    "\n",
    "n_cts = {}\n",
    "for _,ct in data.iterrows():\n",
    "    msa = ct['msa']\n",
    "    if True:#str(msa) in metro_ids:\n",
    "        ct_id = ct[\"ct\"]\n",
    "        if msa not in n_cts:\n",
    "            n_cts[msa] = 0\n",
    "        n_cts[msa] += 1\n",
    "    \n",
    "n_cts_list = []\n",
    "for msa in income_lists:\n",
    "    if str(msa) in metro_ids:\n",
    "        n_cts_list.append(n_cts[msa])\n",
    "    \n",
    "plt.figure()\n",
    "plt.hist(n_cts_list,bins = 150)\n",
    "plt.xlabel(\"# Census Tracts in City\")\n",
    "plt.ylabel(\"Count\")\n",
    "plt.show()\n"
   ]
  },
  {
   "cell_type": "markdown",
   "metadata": {},
   "source": [
    "### This is to test on average how many how people are in a census tract"
   ]
  },
  {
   "cell_type": "code",
   "execution_count": 4,
   "metadata": {},
   "outputs": [
    {
     "name": "stdout",
     "output_type": "stream",
     "text": [
      "numer of workers: 2335.1214325433207\n",
      "numer of total people: 4491.246336734847\n"
     ]
    }
   ],
   "source": [
    "wps = []\n",
    "for msa in pops:\n",
    "    if str(msa) in metro_ids:\n",
    "        wps += pops[msa]\n",
    "        \n",
    "# print(ps)\n",
    "        \n",
    "print(\"numer of workers:\",np.mean(np.array(wps)))\n",
    "\n",
    "\n",
    "ps = []\n",
    "for msa in fullpops:\n",
    "    if str(msa) in metro_ids:\n",
    "        ps += fullpops[msa]\n",
    "        \n",
    "# print(ps)\n",
    "        \n",
    "print(\"numer of total people:\",np.mean(np.array(ps)))\n"
   ]
  },
  {
   "cell_type": "code",
   "execution_count": 5,
   "metadata": {},
   "outputs": [
    {
     "name": "stdout",
     "output_type": "stream",
     "text": [
      "176.49602122015915\n"
     ]
    }
   ],
   "source": [
    "mean = np.mean(n_cts_list)\n",
    "print(mean)"
   ]
  },
  {
   "cell_type": "markdown",
   "metadata": {},
   "source": [
    "# Analyze Distributions"
   ]
  },
  {
   "cell_type": "markdown",
   "metadata": {},
   "source": [
    "## Fig 2 - Kernal density dist. for selected cities"
   ]
  },
  {
   "cell_type": "code",
   "execution_count": 6,
   "metadata": {},
   "outputs": [
    {
     "name": "stderr",
     "output_type": "stream",
     "text": [
      "No handles with labels found to put in legend.\n"
     ]
    },
    {
     "data": {
      "text/plain": [
       "Text(0, 0.5, 'PDF')"
      ]
     },
     "execution_count": 6,
     "metadata": {},
     "output_type": "execute_result"
    },
    {
     "data": {
      "image/png": "[encoded data removed]",
      "text/plain": [
       "<Figure size 576x432 with 1 Axes>"
      ]
     },
     "metadata": {
      "needs_background": "light"
     },
     "output_type": "display_data"
    }
   ],
   "source": [
    "plt.rc('xtick', labelsize=18)     \n",
    "plt.rc('ytick', labelsize=18)\n",
    "\n",
    "plt.rcParams.update({'font.size': 18})\n",
    "\n",
    "kde_distr = {}\n",
    "kde_distr_small = {}\n",
    "kde_pdfs = {}\n",
    "x_inc_all = []\n",
    "y_pop_all = []\n",
    "kde = {}\n",
    "# city_pop\n",
    "\n",
    "def wide_silverman(kde_inst):\n",
    "    n = kde_inst.n\n",
    "    d = kde_inst.d\n",
    "    silverman = (n * (d + 2) / 4.)**(-1. / (d + 4))\n",
    "    scale = 2.\n",
    "    return silverman*scale\n",
    "\n",
    "\n",
    "def draw_kde_one_city(msa, marker):\n",
    "    # copied everything in for loop \n",
    "    # msa = CBSA Code for metro area\n",
    "    \n",
    "    \n",
    "    metro = str(msa) in metro_ids\n",
    "    msaname = idmappings[\"CBSA Title\"][str(msa)]\n",
    "    if not isinstance(msaname,str):\n",
    "        msaname = list(msaname)[0]\n",
    "        \n",
    "    income_list = income_lists[msa]\n",
    "\n",
    "    cpop = city_pops[msa]\n",
    "    \n",
    "    x = np.linspace(0,1.2*max(income_list),500)\n",
    "    \n",
    "    income_list = np.array(income_list)\n",
    "    pop = np.array(fullpops[msa])/sum(fullpops[msa])\n",
    "\n",
    "    kernel = scipy.stats.gaussian_kde(income_list, weights=pop, bw_method= wide_silverman)\n",
    "    kde[msa] = kernel\n",
    "    sumprob = scipy.integrate.quad(kernel.pdf,0,1.2*max(income_list))\n",
    "    \n",
    "    datx, daty = x, kernel.pdf(x)\n",
    "    ax.plot(datx, daty, marker)\n",
    "\n",
    " \n",
    "      \n",
    "    n_samples = round(n_cts[msa]**.75/6)\n",
    "    if n_samples < 15:\n",
    "        n_samples = 15\n",
    "    small_sample = np.linspace(0,1.2*max(income_list),n_samples)\n",
    "    kde_distr[msa] = (datx, daty)\n",
    "    kde_distr_small[msa] = (small_sample, kernel.pdf(small_sample))\n",
    "    kde_pdfs[msa] = kernel.pdf\n",
    "    \n",
    "\n",
    "    return msaname, cpop\n",
    "\n",
    "fig = plt.figure(figsize = (8, 6))    \n",
    "ax = fig.add_subplot(111)\n",
    "# draw 3 cities. NY, Santa Fe, Miniapolous \n",
    "\n",
    "\n",
    "# new york\n",
    "msaname1, cop1 = draw_kde_one_city(35620, \"b-\")\n",
    "\n",
    "# minneapolis \n",
    "msaname2, cop2 = draw_kde_one_city(33460, \"m:\")\n",
    "\n",
    "# santa fe\n",
    "msaname3, cop3 = draw_kde_one_city(42140, \"g--\")\n",
    "plt.legend()\n",
    "\n",
    "# legend cheats\n",
    "blueline = mlines.Line2D([], [],color='b', marker=\"None\", linestyle='-',linewidth=2, label= \"New York MSA\" )\n",
    "magdots = mlines.Line2D([], [],color='m', marker=\"None\", linestyle=':',linewidth=2, label= \"Minneapolis-St Paul MSA\" )\n",
    "greendash = mlines.Line2D([], [],color='g', marker=\"None\", linestyle='--',linewidth=2, label= \"Santa Fe, NM MSA\" )\n",
    "\n",
    "plt.legend(handles = [blueline, magdots, greendash ])\n",
    "ax.yaxis.set_major_formatter(mtick.FormatStrFormatter('%.2e'))\n",
    "plt.xlabel(\"Income\")\n",
    "plt.ylabel(\"PDF\")\n",
    "\n",
    "\n"
   ]
  },
  {
   "cell_type": "code",
   "execution_count": 46,
   "metadata": {},
   "outputs": [
    {
     "data": {
      "text/plain": [
       "'New York-Newark-Jersey City, NY-NJ-PA'"
      ]
     },
     "execution_count": 46,
     "metadata": {},
     "output_type": "execute_result"
    }
   ],
   "source": [
    "msaname1"
   ]
  },
  {
   "cell_type": "code",
   "execution_count": 47,
   "metadata": {},
   "outputs": [
    {
     "data": {
      "text/plain": [
       "'Minneapolis-St. Paul-Bloomington, MN-WI'"
      ]
     },
     "execution_count": 47,
     "metadata": {},
     "output_type": "execute_result"
    }
   ],
   "source": [
    "msaname2"
   ]
  },
  {
   "cell_type": "code",
   "execution_count": 48,
   "metadata": {},
   "outputs": [
    {
     "data": {
      "text/plain": [
       "'Santa Fe, NM'"
      ]
     },
     "execution_count": 48,
     "metadata": {},
     "output_type": "execute_result"
    }
   ],
   "source": [
    "msaname3"
   ]
  },
  {
   "cell_type": "code",
   "execution_count": 7,
   "metadata": {},
   "outputs": [
    {
     "ename": "AttributeError",
     "evalue": "'Rectangle' object has no property 'normed'",
     "output_type": "error",
     "traceback": [
      "\u001b[0;31m---------------------------------------------------------------------------\u001b[0m",
      "\u001b[0;31mAttributeError\u001b[0m                            Traceback (most recent call last)",
      "\u001b[0;32m<ipython-input-7-21c0fa787093>\u001b[0m in \u001b[0;36m<module>\u001b[0;34m\u001b[0m\n\u001b[1;32m      5\u001b[0m \u001b[0;34m\u001b[0m\u001b[0m\n\u001b[1;32m      6\u001b[0m \u001b[0;34m\u001b[0m\u001b[0m\n\u001b[0;32m----> 7\u001b[0;31m \u001b[0mydat\u001b[0m\u001b[0;34m,\u001b[0m\u001b[0mxdat\u001b[0m\u001b[0;34m,\u001b[0m\u001b[0m_\u001b[0m \u001b[0;34m=\u001b[0m \u001b[0mplt\u001b[0m\u001b[0;34m.\u001b[0m\u001b[0mhist\u001b[0m\u001b[0;34m(\u001b[0m\u001b[0mi_list\u001b[0m\u001b[0;34m,\u001b[0m \u001b[0mbins\u001b[0m\u001b[0;34m=\u001b[0m\u001b[0;36m140\u001b[0m\u001b[0;34m,\u001b[0m \u001b[0mnormed\u001b[0m\u001b[0;34m=\u001b[0m\u001b[0;32mTrue\u001b[0m\u001b[0;34m)\u001b[0m\u001b[0;34m\u001b[0m\u001b[0;34m\u001b[0m\u001b[0m\n\u001b[0m\u001b[1;32m      8\u001b[0m \u001b[0mxdat\u001b[0m \u001b[0;34m=\u001b[0m \u001b[0mnp\u001b[0m\u001b[0;34m.\u001b[0m\u001b[0marray\u001b[0m\u001b[0;34m(\u001b[0m\u001b[0mxdat\u001b[0m\u001b[0;34m[\u001b[0m\u001b[0;34m:\u001b[0m\u001b[0;34m-\u001b[0m\u001b[0;36m1\u001b[0m\u001b[0;34m]\u001b[0m\u001b[0;34m)\u001b[0m \u001b[0;34m+\u001b[0m \u001b[0;36m0.5\u001b[0m\u001b[0;34m*\u001b[0m\u001b[0;34m(\u001b[0m\u001b[0mxdat\u001b[0m\u001b[0;34m[\u001b[0m\u001b[0;34m-\u001b[0m\u001b[0;36m1\u001b[0m\u001b[0;34m]\u001b[0m\u001b[0;34m-\u001b[0m\u001b[0mxdat\u001b[0m\u001b[0;34m[\u001b[0m\u001b[0;34m-\u001b[0m\u001b[0;36m2\u001b[0m\u001b[0;34m]\u001b[0m\u001b[0;34m)\u001b[0m\u001b[0;34m\u001b[0m\u001b[0;34m\u001b[0m\u001b[0m\n\u001b[1;32m      9\u001b[0m \u001b[0mx\u001b[0m \u001b[0;34m=\u001b[0m \u001b[0mnp\u001b[0m\u001b[0;34m.\u001b[0m\u001b[0mlinspace\u001b[0m\u001b[0;34m(\u001b[0m\u001b[0;36m0\u001b[0m\u001b[0;34m,\u001b[0m \u001b[0mmax\u001b[0m\u001b[0;34m(\u001b[0m\u001b[0mi_list\u001b[0m\u001b[0;34m)\u001b[0m\u001b[0;34m,\u001b[0m \u001b[0;36m100\u001b[0m\u001b[0;34m)\u001b[0m\u001b[0;34m\u001b[0m\u001b[0;34m\u001b[0m\u001b[0m\n",
      "\u001b[0;32m~/opt/anaconda3/lib/python3.8/site-packages/matplotlib/pyplot.py\u001b[0m in \u001b[0;36mhist\u001b[0;34m(x, bins, range, density, weights, cumulative, bottom, histtype, align, orientation, rwidth, log, color, label, stacked, data, **kwargs)\u001b[0m\n\u001b[1;32m   2683\u001b[0m         \u001b[0morientation\u001b[0m\u001b[0;34m=\u001b[0m\u001b[0;34m'vertical'\u001b[0m\u001b[0;34m,\u001b[0m \u001b[0mrwidth\u001b[0m\u001b[0;34m=\u001b[0m\u001b[0;32mNone\u001b[0m\u001b[0;34m,\u001b[0m \u001b[0mlog\u001b[0m\u001b[0;34m=\u001b[0m\u001b[0;32mFalse\u001b[0m\u001b[0;34m,\u001b[0m \u001b[0mcolor\u001b[0m\u001b[0;34m=\u001b[0m\u001b[0;32mNone\u001b[0m\u001b[0;34m,\u001b[0m\u001b[0;34m\u001b[0m\u001b[0;34m\u001b[0m\u001b[0m\n\u001b[1;32m   2684\u001b[0m         label=None, stacked=False, *, data=None, **kwargs):\n\u001b[0;32m-> 2685\u001b[0;31m     return gca().hist(\n\u001b[0m\u001b[1;32m   2686\u001b[0m         \u001b[0mx\u001b[0m\u001b[0;34m,\u001b[0m \u001b[0mbins\u001b[0m\u001b[0;34m=\u001b[0m\u001b[0mbins\u001b[0m\u001b[0;34m,\u001b[0m \u001b[0mrange\u001b[0m\u001b[0;34m=\u001b[0m\u001b[0mrange\u001b[0m\u001b[0;34m,\u001b[0m \u001b[0mdensity\u001b[0m\u001b[0;34m=\u001b[0m\u001b[0mdensity\u001b[0m\u001b[0;34m,\u001b[0m \u001b[0mweights\u001b[0m\u001b[0;34m=\u001b[0m\u001b[0mweights\u001b[0m\u001b[0;34m,\u001b[0m\u001b[0;34m\u001b[0m\u001b[0;34m\u001b[0m\u001b[0m\n\u001b[1;32m   2687\u001b[0m         \u001b[0mcumulative\u001b[0m\u001b[0;34m=\u001b[0m\u001b[0mcumulative\u001b[0m\u001b[0;34m,\u001b[0m \u001b[0mbottom\u001b[0m\u001b[0;34m=\u001b[0m\u001b[0mbottom\u001b[0m\u001b[0;34m,\u001b[0m \u001b[0mhisttype\u001b[0m\u001b[0;34m=\u001b[0m\u001b[0mhisttype\u001b[0m\u001b[0;34m,\u001b[0m\u001b[0;34m\u001b[0m\u001b[0;34m\u001b[0m\u001b[0m\n",
      "\u001b[0;32m~/opt/anaconda3/lib/python3.8/site-packages/matplotlib/__init__.py\u001b[0m in \u001b[0;36minner\u001b[0;34m(ax, data, *args, **kwargs)\u001b[0m\n\u001b[1;32m   1436\u001b[0m     \u001b[0;32mdef\u001b[0m \u001b[0minner\u001b[0m\u001b[0;34m(\u001b[0m\u001b[0max\u001b[0m\u001b[0;34m,\u001b[0m \u001b[0;34m*\u001b[0m\u001b[0margs\u001b[0m\u001b[0;34m,\u001b[0m \u001b[0mdata\u001b[0m\u001b[0;34m=\u001b[0m\u001b[0;32mNone\u001b[0m\u001b[0;34m,\u001b[0m \u001b[0;34m**\u001b[0m\u001b[0mkwargs\u001b[0m\u001b[0;34m)\u001b[0m\u001b[0;34m:\u001b[0m\u001b[0;34m\u001b[0m\u001b[0;34m\u001b[0m\u001b[0m\n\u001b[1;32m   1437\u001b[0m         \u001b[0;32mif\u001b[0m \u001b[0mdata\u001b[0m \u001b[0;32mis\u001b[0m \u001b[0;32mNone\u001b[0m\u001b[0;34m:\u001b[0m\u001b[0;34m\u001b[0m\u001b[0;34m\u001b[0m\u001b[0m\n\u001b[0;32m-> 1438\u001b[0;31m             \u001b[0;32mreturn\u001b[0m \u001b[0mfunc\u001b[0m\u001b[0;34m(\u001b[0m\u001b[0max\u001b[0m\u001b[0;34m,\u001b[0m \u001b[0;34m*\u001b[0m\u001b[0mmap\u001b[0m\u001b[0;34m(\u001b[0m\u001b[0msanitize_sequence\u001b[0m\u001b[0;34m,\u001b[0m \u001b[0margs\u001b[0m\u001b[0;34m)\u001b[0m\u001b[0;34m,\u001b[0m \u001b[0;34m**\u001b[0m\u001b[0mkwargs\u001b[0m\u001b[0;34m)\u001b[0m\u001b[0;34m\u001b[0m\u001b[0;34m\u001b[0m\u001b[0m\n\u001b[0m\u001b[1;32m   1439\u001b[0m \u001b[0;34m\u001b[0m\u001b[0m\n\u001b[1;32m   1440\u001b[0m         \u001b[0mbound\u001b[0m \u001b[0;34m=\u001b[0m \u001b[0mnew_sig\u001b[0m\u001b[0;34m.\u001b[0m\u001b[0mbind\u001b[0m\u001b[0;34m(\u001b[0m\u001b[0max\u001b[0m\u001b[0;34m,\u001b[0m \u001b[0;34m*\u001b[0m\u001b[0margs\u001b[0m\u001b[0;34m,\u001b[0m \u001b[0;34m**\u001b[0m\u001b[0mkwargs\u001b[0m\u001b[0;34m)\u001b[0m\u001b[0;34m\u001b[0m\u001b[0;34m\u001b[0m\u001b[0m\n",
      "\u001b[0;32m~/opt/anaconda3/lib/python3.8/site-packages/matplotlib/axes/_axes.py\u001b[0m in \u001b[0;36mhist\u001b[0;34m(self, x, bins, range, density, weights, cumulative, bottom, histtype, align, orientation, rwidth, log, color, label, stacked, **kwargs)\u001b[0m\n\u001b[1;32m   6818\u001b[0m             \u001b[0;32mif\u001b[0m \u001b[0mpatch\u001b[0m\u001b[0;34m:\u001b[0m\u001b[0;34m\u001b[0m\u001b[0;34m\u001b[0m\u001b[0m\n\u001b[1;32m   6819\u001b[0m                 \u001b[0mp\u001b[0m \u001b[0;34m=\u001b[0m \u001b[0mpatch\u001b[0m\u001b[0;34m[\u001b[0m\u001b[0;36m0\u001b[0m\u001b[0;34m]\u001b[0m\u001b[0;34m\u001b[0m\u001b[0;34m\u001b[0m\u001b[0m\n\u001b[0;32m-> 6820\u001b[0;31m                 \u001b[0mp\u001b[0m\u001b[0;34m.\u001b[0m\u001b[0mupdate\u001b[0m\u001b[0;34m(\u001b[0m\u001b[0mkwargs\u001b[0m\u001b[0;34m)\u001b[0m\u001b[0;34m\u001b[0m\u001b[0;34m\u001b[0m\u001b[0m\n\u001b[0m\u001b[1;32m   6821\u001b[0m                 \u001b[0;32mif\u001b[0m \u001b[0mlbl\u001b[0m \u001b[0;32mis\u001b[0m \u001b[0;32mnot\u001b[0m \u001b[0;32mNone\u001b[0m\u001b[0;34m:\u001b[0m\u001b[0;34m\u001b[0m\u001b[0;34m\u001b[0m\u001b[0m\n\u001b[1;32m   6822\u001b[0m                     \u001b[0mp\u001b[0m\u001b[0;34m.\u001b[0m\u001b[0mset_label\u001b[0m\u001b[0;34m(\u001b[0m\u001b[0mlbl\u001b[0m\u001b[0;34m)\u001b[0m\u001b[0;34m\u001b[0m\u001b[0;34m\u001b[0m\u001b[0m\n",
      "\u001b[0;32m~/opt/anaconda3/lib/python3.8/site-packages/matplotlib/artist.py\u001b[0m in \u001b[0;36mupdate\u001b[0;34m(self, props)\u001b[0m\n\u001b[1;32m    994\u001b[0m                     \u001b[0mfunc\u001b[0m \u001b[0;34m=\u001b[0m \u001b[0mgetattr\u001b[0m\u001b[0;34m(\u001b[0m\u001b[0mself\u001b[0m\u001b[0;34m,\u001b[0m \u001b[0;34mf\"set_{k}\"\u001b[0m\u001b[0;34m,\u001b[0m \u001b[0;32mNone\u001b[0m\u001b[0;34m)\u001b[0m\u001b[0;34m\u001b[0m\u001b[0;34m\u001b[0m\u001b[0m\n\u001b[1;32m    995\u001b[0m                     \u001b[0;32mif\u001b[0m \u001b[0;32mnot\u001b[0m \u001b[0mcallable\u001b[0m\u001b[0;34m(\u001b[0m\u001b[0mfunc\u001b[0m\u001b[0;34m)\u001b[0m\u001b[0;34m:\u001b[0m\u001b[0;34m\u001b[0m\u001b[0;34m\u001b[0m\u001b[0m\n\u001b[0;32m--> 996\u001b[0;31m                         raise AttributeError(f\"{type(self).__name__!r} object \"\n\u001b[0m\u001b[1;32m    997\u001b[0m                                              f\"has no property {k!r}\")\n\u001b[1;32m    998\u001b[0m                     \u001b[0mret\u001b[0m\u001b[0;34m.\u001b[0m\u001b[0mappend\u001b[0m\u001b[0;34m(\u001b[0m\u001b[0mfunc\u001b[0m\u001b[0;34m(\u001b[0m\u001b[0mv\u001b[0m\u001b[0;34m)\u001b[0m\u001b[0;34m)\u001b[0m\u001b[0;34m\u001b[0m\u001b[0;34m\u001b[0m\u001b[0m\n",
      "\u001b[0;31mAttributeError\u001b[0m: 'Rectangle' object has no property 'normed'"
     ]
    },
    {
     "data": {
      "image/png": "[encoded data removed]",
      "text/plain": [
       "<Figure size 432x288 with 1 Axes>"
      ]
     },
     "metadata": {
      "needs_background": "light"
     },
     "output_type": "display_data"
    }
   ],
   "source": [
    "# COMPARING DISTRIBUTIONS TO MAXWELL-BOLTZMANN & PARETO DISTRIBUTIONS (for background of paper):\n",
    "\n",
    "m_id = 16980 # Chicago\n",
    "i_list = [item for sublist in income_lists.values() for item in sublist]# income_lists.values)\n",
    "\n",
    "\n",
    "ydat,xdat,_ = plt.hist(i_list, bins=140, normed=True)\n",
    "xdat = np.array(xdat[:-1]) + 0.5*(xdat[-1]-xdat[-2]) \n",
    "x = np.linspace(0, max(i_list), 100)\n",
    "\n",
    "\n",
    "def maxwell(x,scale,loc):\n",
    "#     print(\"in maxwell\")\n",
    "    return np.sqrt(2/np.pi)*((x - loc) / scale)**2*np.exp((-((x - loc) / scale)**2)/2)/(scale**1)\n",
    "# def maxwell(x,a,scale,scale2,loc):\n",
    "# #     print(\"in maxwell\")\n",
    "#     return scale2*np.sqrt(2/np.pi)*((x - loc) / scale)**2*np.exp((-((x - loc) / scale)**2)/(2*a**2))/((a**3)*scale)\n",
    "\n",
    "# def maxwell(x,loc,scale):\n",
    "#     return scipy.stats.maxwell.pdf(x,loc=loc,scale=scale)\n",
    "\n",
    "x_maxwell_0 = np.array([i for i in xdat if i < 75000.])#*10**(-4)\n",
    "y_maxwell_0 = np.array(ydat[:len(x_maxwell_0)])#*10**7\n",
    "x_maxwell = np.array([i for i in x_maxwell_0 if i > 15000.])#*10**(-4)\n",
    "y_maxwell = np.array(y_maxwell_0[(len(y_maxwell_0)-len(x_maxwell)):])#*10**7\n",
    "# print(len(x_maxwell),len(y_maxwell))\n",
    "# print(x_maxwell,y_maxwell)\n",
    "# plt.plot(x_maxwell,y_maxwell,label=\"from bins\")\n",
    "popt_m, pcov = curve_fit(maxwell, x_maxwell, y_maxwell,p0=[23188.79033513, 28843.553447])\n",
    "print(popt_m)\n",
    "# testx = np.linspace(np.min(x_maxwell),np.max(x_maxwell),50)\n",
    "\n",
    "# def residual(params, x, true_data):\n",
    "# #     model = maxwell(x,params['a'],params['scale'],params['scale2'],params['loc'])\n",
    "#     model = maxwell(x,params['scale'],params['loc'])\n",
    "#     return true_data-model\n",
    "        \n",
    "# mParams = lmfit.Parameters()\n",
    "# mParams.add_many(('scale',37000.,True,0.,200000.),('loc',0.,True,0.))\n",
    "# mModel = lmfit.Model(maxwell)\n",
    "# mFits   = lmfit.minimize(residual, mParams, args=(x_maxwell, y_maxwell))\n",
    "# mParams = mFits.params\n",
    "# print(mParams)\n",
    "# res = mModel.eval(params=mParams,x=x_maxwell)\n",
    "\n",
    "\n",
    "# params = scipy.stats.maxwell.fit(i_list, floc=0)\n",
    "# plt.plot(x_maxwell,scipy.stats.maxwell.pdf(x_maxwell,loc=params[0],scale=params[1]))\n",
    "# print(params)\n",
    "    \n",
    "# plt.plot(x_maxwell, res, lw=3, label=\"Maxwell-B/oltzmann lmfit\")\n",
    "plt.plot(x_maxwell, maxwell(x_maxwell, *popt_m),\"--\", lw=3, label=\"Maxwell-Boltzmann\")\n",
    "\n",
    "\n",
    "\n",
    "def pareto(x,b,scale):\n",
    "    return scale*b/(x**(b+1))\n",
    "\n",
    "x_par = [i for i in xdat if i >= 75000]\n",
    "y_par = ydat[(len(ydat)-len(x_par)):]\n",
    "popt_p, pcov = curve_fit(pareto, x_par, y_par,)\n",
    "\n",
    "plt.plot(x_par, pareto(x_par, *popt_p),\"--\", lw=3, label=\"Pareto\")\n",
    "plt.xlabel(\"Income\")\n",
    "plt.ylabel(\"Probability\")\n",
    "plt.xlim(right=200000)\n",
    "plt.legend()"
   ]
  },
  {
   "cell_type": "markdown",
   "metadata": {},
   "source": [
    "    ## calculate moments using pdfs generated by kde for each city\n",
    "Uses scipy.stats.rv_continuous.moment\n",
    "NOTE: Moments change significantly from raw data to kde-generated pdf. We assume that these changes are representative of the true distributions\n",
    "\n",
    "\n",
    "    FIXME: Some moments are being returned as zero"
   ]
  },
  {
   "cell_type": "markdown",
   "metadata": {},
   "source": [
    "## Run the KDE code to generate kde's for all msa's"
   ]
  },
  {
   "cell_type": "code",
   "execution_count": 8,
   "metadata": {},
   "outputs": [],
   "source": [
    "for msa in income_lists:\n",
    "    metro = str(msa) in metro_ids\n",
    "    msaname = idmappings[\"CBSA Title\"][str(msa)]\n",
    "    if not isinstance(msaname,str):\n",
    "        msaname = list(msaname)[0]\n",
    "\n",
    "    \n",
    "    income_list = income_lists[msa]\n",
    "  \n",
    "    cpop = city_pops[msa]\n",
    "    \n",
    "    x = np.linspace(0,1.2*max(income_list),100)\n",
    "    \n",
    "    income_list = np.array(income_list)\n",
    "    pop = np.array(fullpops[msa])/sum(fullpops[msa])\n",
    "     \n",
    "    kernel = scipy.stats.gaussian_kde(income_list, weights=pop, bw_method= wide_silverman)\n",
    "    kde[msa] = kernel\n",
    "    \n",
    "    \n",
    "    sumprob = scipy.integrate.quad(kernel.pdf,0,1.2*max(income_list))\n",
    "    \n",
    "    datx, daty = x, kernel.pdf(x)\n",
    "   \n",
    "    n_samples = round(n_cts[msa]**.75/6)\n",
    "    if n_samples < 15:\n",
    "        n_samples = 15\n",
    "    small_sample = np.linspace(0,1.2*max(income_list),n_samples)\n",
    "    kde_distr[msa] = (datx, daty)\n",
    "    kde_distr_small[msa] = (small_sample, kernel.pdf(small_sample))\n",
    "    kde_pdfs[msa] = kernel.pdf"
   ]
  },
  {
   "cell_type": "code",
   "execution_count": 9,
   "metadata": {},
   "outputs": [
    {
     "name": "stderr",
     "output_type": "stream",
     "text": [
      "/Users/elisaheinrichmora/opt/anaconda3/lib/python3.8/site-packages/scipy/stats/_distn_infrastructure.py:1707: IntegrationWarning: The algorithm does not converge.  Roundoff error is detected\n",
      "  in the extrapolation table.  It is assumed that the requested tolerance\n",
      "  cannot be achieved, and that the returned result (if full_output = 1) is \n",
      "  the best which can be obtained.\n",
      "  return integrate.quad(self._mom_integ0, _a, _b,\n",
      "/Users/elisaheinrichmora/opt/anaconda3/lib/python3.8/site-packages/scipy/stats/_distn_infrastructure.py:1707: IntegrationWarning: The integral is probably divergent, or slowly convergent.\n",
      "  return integrate.quad(self._mom_integ0, _a, _b,\n"
     ]
    }
   ],
   "source": [
    "\n",
    "class custom_distribution(scipy.stats.rv_continuous):\n",
    "    def _pdf(self, x, msa):\n",
    "        #print(\"in pdf,x = \",x,\"msa=\",msa)\n",
    "        #print(\"in pdf\",x)\n",
    "        ret = kde_pdfs[msa[0]](x[0])\n",
    "        #print(ret)\n",
    "        #print(\"ret=\",ret)\n",
    "        return ret\n",
    "\n",
    "distribution = custom_distribution(momtype=0)\n",
    "\n",
    "# maps moment number n to list of those moments\n",
    "moments = {}\n",
    "cpops = []\n",
    "errors = []\n",
    "\n",
    "def calc_moment(dist,m_n):\n",
    "    avg = np.mean(dist)\n",
    "    if m_n==1:\n",
    "        return avg\n",
    "    n = len(dist)\n",
    "    diff = dist - avg\n",
    "    diff_mn = diff**m_n\n",
    "    m = (1./n)*np.sum(diff_mn)\n",
    "    return m\n",
    "def calc_moment_kde(msa,m_n):\n",
    "    mx = max(income_lists[msa])\n",
    "    integral = scipy.integrate.quad(lambda x: x*kde_pdfs[msa](x),0,1000000)\n",
    "    if integral[1]/(integral[0]) > 0.01:\n",
    "        print(\"WARNING! Large error in integration\")\n",
    "        set_trace()\n",
    "    avg = integral[0]\n",
    "    if m_n==1:\n",
    "#         print(\"avg:\",avg)\n",
    "        return avg\n",
    "    f = lambda x: (x-avg)**m_n*kde_pdfs[msa](x)\n",
    "    m = scipy.integrate.quad(f,0,1000000)[0]\n",
    "    if abs(m) < 1.:\n",
    "        errors.append(msa)\n",
    "        set_trace()\n",
    "    if m_n ==1:\n",
    "        print(\"avg:\",avg)\n",
    "        print(\"m:\",m)\n",
    "    return m\n",
    "    \n",
    "# errors = [10780,11940,12860,16020]\n",
    "for msa in kde_pdfs: \n",
    "\n",
    "    for n in range(1,5):\n",
    "\n",
    "        if n not in moments:\n",
    "            moments[n] = []\n",
    "        m_kde = distribution.moment(n,msa)\n",
    "        m_raw = scipy.stats.moment(income_lists[msa],moment=n)\n",
    "        manual_m = calc_moment(income_lists[msa],n)\n",
    "        manual_m_kde = calc_moment_kde(msa,n)\n",
    "        \n",
    "\n",
    "    \n",
    "        moments[n].append(manual_m_kde)\n",
    "    cpops.append(city_pops[msa])\n"
   ]
  },
  {
   "cell_type": "code",
   "execution_count": 10,
   "metadata": {},
   "outputs": [
    {
     "name": "stdout",
     "output_type": "stream",
     "text": [
      "49780 4\n",
      "Zanesville, OH\n",
      "mkde, m_raw =  4.971766655924369e+18 4261408190322505.5\n"
     ]
    },
    {
     "data": {
      "text/plain": [
       "(array([3., 1., 2., 4., 6., 3., 3., 3., 2., 2.]),\n",
       " array([31117. , 33501.1, 35885.2, 38269.3, 40653.4, 43037.5, 45421.6,\n",
       "        47805.7, 50189.8, 52573.9, 54958. ]),\n",
       " <BarContainer object of 10 artists>)"
      ]
     },
     "execution_count": 10,
     "metadata": {},
     "output_type": "execute_result"
    },
    {
     "data": {
      "image/png": "[encoded data removed]",
      "text/plain": [
       "<Figure size 432x288 with 1 Axes>"
      ]
     },
     "metadata": {
      "needs_background": "light"
     },
     "output_type": "display_data"
    }
   ],
   "source": [
    "print(msa,n)\n",
    "print(idmappings[\"CBSA Title\"][str(msa)])\n",
    "\n",
    "m_kde = distribution.moment(n,msa)\n",
    "m_raw = scipy.stats.moment(income_lists[msa],moment=n)\n",
    "print(\"mkde, m_raw = \",m_kde,m_raw)\n",
    "plt.hist(income_lists[msa])\n",
    "# array([ 6., 13.,  7., 16., 10.,  7.,  3.,  2.,  1.,  2.]), array([26744. , 31915.4, 37086.8, 42258.2, 47429.6, 52601. , 57772.4,\n",
    "#        62943.8, 68115.2, 73286.6, 78458. ])"
   ]
  },
  {
   "cell_type": "markdown",
   "metadata": {},
   "source": [
    "### Analyze distribution moments vs. city size"
   ]
  },
  {
   "cell_type": "code",
   "execution_count": 11,
   "metadata": {},
   "outputs": [
    {
     "data": {
      "image/png": "[encoded data removed]",
      "text/plain": [
       "<Figure size 432x288 with 1 Axes>"
      ]
     },
     "metadata": {
      "needs_background": "light"
     },
     "output_type": "display_data"
    },
    {
     "data": {
      "image/png": "[encoded data removed]",
      "text/plain": [
       "<Figure size 432x288 with 1 Axes>"
      ]
     },
     "metadata": {
      "needs_background": "light"
     },
     "output_type": "display_data"
    },
    {
     "data": {
      "image/png": "[encoded data removed]",
      "text/plain": [
       "<Figure size 432x288 with 1 Axes>"
      ]
     },
     "metadata": {
      "needs_background": "light"
     },
     "output_type": "display_data"
    },
    {
     "data": {
      "image/png": "[encoded data removed]",
      "text/plain": [
       "<Figure size 432x288 with 1 Axes>"
      ]
     },
     "metadata": {
      "needs_background": "light"
     },
     "output_type": "display_data"
    }
   ],
   "source": [
    "# moment_p = moments\n",
    "# cpops_p = cpops\n",
    "import copy\n",
    "\n",
    "scale_y = {\n",
    "    1:1.,\n",
    "    2:.075,\n",
    "    3:.01,\n",
    "    4:.01,\n",
    "    5:.15\n",
    "}\n",
    "\n",
    "scale_y = {\n",
    "    1:1.,\n",
    "    2:.02*10**-8,\n",
    "    3:.01,\n",
    "    4:.01,\n",
    "    5:.15\n",
    "}\n",
    "\n",
    "cpops_map = {}\n",
    "moments_cp = {}\n",
    "for n in [1,2,3,4]:\n",
    "    cpops_map[n] = copy.copy(cpops)\n",
    "    moments_cp[n] = copy.copy(moments[n])\n",
    "    \n",
    "\n",
    "# for n in [2,3,4]:\n",
    "#     cpops_map[n] = np.array(cpops_map[n])\n",
    "#     moments_cp[n] = np.array(moments_cp[n])\n",
    "#     amax = np.argmax(moments_cp[n])\n",
    "#     cpops_map[n] = np.delete(cpops_map[n],amax)\n",
    "#     moments_cp[n] = np.delete(moments_cp[n],amax)\n",
    "#     if n==4:\n",
    "#         for _ in range(4):\n",
    "#             amax = np.argmax(moments[n])\n",
    "#             cpops_map[n] = np.delete(cpops_map[n],amax)\n",
    "#             moments[n] = np.delete(moments[n],amax)\n",
    "    \n",
    "    \n",
    "for n in range(1,5):\n",
    "    plt.figure()\n",
    "    plt.xlabel(\"City Population\")\n",
    "    lbl = \"nth moment, n = \" + str(n) \n",
    "    if n == 2:\n",
    "        lbl = r\"Variance - 2nd Moment ($USD^2$)\"        \n",
    "    elif n == 1:\n",
    "        lbl = r\"Mean - 1st Moment ($USD^1$)\"\n",
    "    elif n == 3:\n",
    "        lbl = r\"Skewness - 3rd Moment ($USD^3$)\"\n",
    "    elif n == 4:\n",
    "        lbl = r\"Kurtosis - 4th Moment ($USD^4$)\"\n",
    "    plt.ylabel(lbl)\n",
    "    # TODO: fit regressions in log-linear space, calculate R^2 & p-value\n",
    "    plt.plot(cpops_map[n], moments_cp[n],'o',markersize=2)\n",
    "#     bottom,top = plt.ylim()\n",
    "    plt.yscale(\"log\")\n",
    "#     plt.ylim((10**(4*n),top))\n",
    "#     plt.ylim((0,scale_y[n]*top))\n",
    "    plt.xscale(\"log\")\n",
    "    plt.show()\n",
    "    plt.close()\n",
    "#plt.hist(samples)\n"
   ]
  },
  {
   "cell_type": "markdown",
   "metadata": {},
   "source": [
    "### Correlation & Power Law"
   ]
  },
  {
   "cell_type": "code",
   "execution_count": 12,
   "metadata": {},
   "outputs": [
    {
     "name": "stdout",
     "output_type": "stream",
     "text": [
      "Mean - 1st Moment\n",
      "Covariance: \n",
      "[[2.00024368e+12 4.43994606e+09]\n",
      " [4.43994606e+09 6.09466110e+07]]\n",
      "Poly-fit\n",
      "[9.87575433 0.07603054]\n"
     ]
    },
    {
     "data": {
      "image/png": "[encoded data removed]",
      "text/plain": [
       "<Figure size 432x288 with 1 Axes>"
      ]
     },
     "metadata": {
      "needs_background": "light"
     },
     "output_type": "display_data"
    },
    {
     "name": "stdout",
     "output_type": "stream",
     "text": [
      "\n",
      "Pearsons correlation: 0.402\n",
      "P-value: 0.000\n",
      "Spearmans correlation: 0.502\n",
      "P-value: 0.000\n",
      "__________________________________\n"
     ]
    },
    {
     "ename": "NameError",
     "evalue": "name 'sm' is not defined",
     "output_type": "error",
     "traceback": [
      "\u001b[0;31m---------------------------------------------------------------------------\u001b[0m",
      "\u001b[0;31mNameError\u001b[0m                                 Traceback (most recent call last)",
      "\u001b[0;32m<ipython-input-12-8c23551259a9>\u001b[0m in \u001b[0;36m<module>\u001b[0;34m\u001b[0m\n\u001b[1;32m     62\u001b[0m     \u001b[0my\u001b[0m \u001b[0;34m=\u001b[0m \u001b[0mlog_moments\u001b[0m\u001b[0;34m\u001b[0m\u001b[0;34m\u001b[0m\u001b[0m\n\u001b[1;32m     63\u001b[0m \u001b[0;34m\u001b[0m\u001b[0m\n\u001b[0;32m---> 64\u001b[0;31m     \u001b[0mX\u001b[0m \u001b[0;34m=\u001b[0m \u001b[0msm\u001b[0m\u001b[0;34m.\u001b[0m\u001b[0madd_constant\u001b[0m\u001b[0;34m(\u001b[0m\u001b[0mX\u001b[0m\u001b[0;34m)\u001b[0m\u001b[0;34m\u001b[0m\u001b[0;34m\u001b[0m\u001b[0m\n\u001b[0m\u001b[1;32m     65\u001b[0m \u001b[0;34m\u001b[0m\u001b[0m\n\u001b[1;32m     66\u001b[0m     \u001b[0mres\u001b[0m \u001b[0;34m=\u001b[0m \u001b[0msm\u001b[0m\u001b[0;34m.\u001b[0m\u001b[0mOLS\u001b[0m\u001b[0;34m(\u001b[0m\u001b[0my\u001b[0m\u001b[0;34m,\u001b[0m\u001b[0mX\u001b[0m \u001b[0;34m,\u001b[0m\u001b[0mmissing\u001b[0m \u001b[0;34m=\u001b[0m \u001b[0;34m'drop'\u001b[0m\u001b[0;34m)\u001b[0m\u001b[0;34m.\u001b[0m\u001b[0mfit\u001b[0m\u001b[0;34m(\u001b[0m\u001b[0;34m)\u001b[0m\u001b[0;34m\u001b[0m\u001b[0;34m\u001b[0m\u001b[0m\n",
      "\u001b[0;31mNameError\u001b[0m: name 'sm' is not defined"
     ]
    }
   ],
   "source": [
    "import numpy as np\n",
    "from numpy.random import randn\n",
    "from numpy.random import seed\n",
    "from scipy.stats import pearsonr\n",
    "from scipy.stats import spearmanr\n",
    "import numpy.polynomial.polynomial as poly\n",
    "\n",
    "\n",
    "slope = []\n",
    "slope_u = []\n",
    "slope_l = []\n",
    "\n",
    "for n in range(1,5):\n",
    "    \n",
    "    lbl = \"nth moment, n = \" + str(n) \n",
    "    if n == 2:\n",
    "        lbl = r\"Variance - 2nd Moment\"        \n",
    "    elif n == 1:\n",
    "        lbl = r\"Mean - 1st Moment\"\n",
    "    elif n == 3:\n",
    "        lbl = r\"Skewness - 3rd Moment\"\n",
    "    elif n == 4:\n",
    "        lbl = r\"Kurtosis - 4th Moment\"\n",
    "        \n",
    "    print(lbl)\n",
    "    \n",
    "    print(\"Covariance: \")\n",
    "    print(np.cov(cpops_map[n], moments_cp[n]))\n",
    "    print(\"Poly-fit\")\n",
    "    log_moments = []\n",
    "    log_populations = []\n",
    "    for i in range(len(moments_cp[n])): \n",
    "        if np.isfinite(np.log(moments_cp[n][i])):\n",
    "            if np.isfinite(np.log(cpops_map[n][i])):\n",
    "                log_moments.append(np.log(moments_cp[n][i]))\n",
    "                log_populations.append(np.log(cpops_map[n][i]))\n",
    "    \n",
    "    coeff = poly.polyfit(log_populations, log_moments, 1)\n",
    "    print(coeff)\n",
    "    x = log_populations\n",
    "    new_x = np.linspace(np.min(x), np.max(x))\n",
    "    new_y = poly.polyval(new_x, coeff)\n",
    "    \n",
    "    plt.xlabel(\"Log City Population\")\n",
    "    plt.ylabel('Log '+ lbl)\n",
    "    plt.plot(log_populations, log_moments, 'o', new_x, new_y, markersize=2)\n",
    "    plt.show()\n",
    "    \n",
    "    print(\"\")\n",
    "    \n",
    "    corr, pval = pearsonr(cpops_map[n], moments_cp[n])\n",
    "    print('Pearsons correlation: %.3f' % corr)\n",
    "    print('P-value: %.3f' % pval)\n",
    "\n",
    "    cor, pval1 = spearmanr(cpops_map[n], moments_cp[n])\n",
    "    print('Spearmans correlation: %.3f' % cor)\n",
    "    print('P-value: %.3f' % pval1)\n",
    "    print(\"__________________________________\")\n",
    "    \n",
    "    # add ols to get confidence interval for parameters \n",
    "    X = log_populations\n",
    "    y = log_moments\n",
    "    \n",
    "    X = sm.add_constant(X)\n",
    "    \n",
    "    res = sm.OLS(y,X ,missing = 'drop').fit()\n",
    "                \n",
    "    CI = 0.05 # 1 - confidence interval \n",
    "     # exponent\n",
    "    slope.append(res.params[1])\n",
    "    slope_l.append(res.conf_int(CI) [0][1]) # confidence interval, lower bound\n",
    "    slope_u.append(res.conf_int(CI) [1][1]) #confidence interval, upper bound\n",
    "    \n",
    "    print(\"slope = {:.2f}, [{:.2f},{:.2f} ]\".format(slope, slope_l, slope_u))\n",
    "    \n",
    "#  cpops_map[n], moments_cp[n]"
   ]
  },
  {
   "cell_type": "markdown",
   "metadata": {},
   "source": [
    "### KL divergence\n",
    "\n",
    "Run test comparing every MSA to one typical large city and plot the metric against city size. "
   ]
  },
  {
   "cell_type": "code",
   "execution_count": null,
   "metadata": {},
   "outputs": [],
   "source": [
    "import numpy as np\n",
    "from scipy.stats import norm\n",
    "from matplotlib import pyplot as plt\n",
    "import tensorflow as tf\n",
    "import seaborn as sns\n",
    "sns.set()\n",
    "from scipy.stats import ks_2samp\n",
    "from scipy.stats import entropy \n",
    "from scipy.special import kl_div, rel_entr \n",
    "import scipy as sp\n"
   ]
  },
  {
   "cell_type": "code",
   "execution_count": null,
   "metadata": {},
   "outputs": [],
   "source": [
    "# def kl_divergence(p, q):\n",
    "#     '''\n",
    "#     Epsilon is used here to avoid conditional code for\n",
    "#     checking that neither P nor Q is equal to 0.\n",
    "#     '''\n",
    "\n",
    "#     eps = 0.00001\n",
    "#     p += eps\n",
    "#     q += eps\n",
    "    \n",
    "#     divergence = np.sum(p* np.log(p/q))\n",
    "#     return divergence\n",
    "    \n",
    "def kl_divergence(a, b):\n",
    "    epsilon = 0.00001\n",
    "    a = np.asarray(a, dtype=np.float)\n",
    "    b = np.asarray(b, dtype=np.float)\n",
    "    a = a+epsilon\n",
    "    b = b+epsilon\n",
    "    \n",
    "    return np.sum(np.where(a != 0, a * np.log(a / b), 0))\n",
    "\n",
    "\n"
   ]
  },
  {
   "cell_type": "code",
   "execution_count": null,
   "metadata": {
    "scrolled": true
   },
   "outputs": [],
   "source": [
    "kde_distr = {}\n",
    "kde_distr_small = {}\n",
    "kde_pdfs = {}\n",
    "x_inc_all = []\n",
    "y_pop_all = []\n",
    "kde = {}\n",
    "\n",
    "\n",
    "\n",
    "def wide_silverman(kde_inst):\n",
    "    n = kde_inst.n\n",
    "    d = kde_inst.d\n",
    "    silverman = (n * (d + 2) / 4.)**(-1. / (d + 4))\n",
    "    scale = 2.\n",
    "    return silverman*scale\n",
    "\n",
    "def max_value(inputlist):\n",
    "    maxs= []\n",
    "    for sublist in inputlist:\n",
    "        maxs.append(np.max(sublist))\n",
    "        \n",
    "    return np.max(maxs)\n",
    "\n",
    "def get_key(val): \n",
    "    for key, value in city_pops.items(): \n",
    "         if val == value: \n",
    "            return key \n",
    "max_max= max_value(list(income_lists.values()))        \n",
    "msa_big_city = get_key(np.max(list(city_pops.values())))\n",
    "\n",
    "\n",
    "\n",
    "income_list_big_city = income_lists[msa_big_city]\n",
    "cpop_big_city = city_pops[msa_big_city]\n",
    "\n",
    "income_list_big_city = np.array(income_list_big_city)\n",
    "income_list_big_city_norm = np.array(income_list_big_city)/ np.max(income_list_big_city)\n",
    "pop_big_city = np.array(fullpops[msa_big_city])/sum(fullpops[msa_big_city])\n",
    "    \n",
    "kernel_big_city = scipy.stats.gaussian_kde(income_list_big_city, weights=pop_big_city)#, bw_method= wide_silverman)\n",
    "kde[msa_big_city] = kernel_big_city \n",
    "\n",
    "\n",
    "\n",
    "\n",
    "x = np.linspace(0, 1.2* max(max_max, 100))\n",
    "pdf_kde_bc= kernel_big_city.pdf(x)/sp.integrate.simps(kernel_big_city.pdf(x), x)\n",
    "\n",
    "datx_bc, daty_bc = x, pdf_kde_bc\n",
    "\n",
    "kl_values = []\n",
    "ks_values = []\n",
    "\n",
    "for msa in income_lists:\n",
    "    \n",
    "    income_list = income_lists[msa]\n",
    "    cpop = city_pops[msa]\n",
    "\n",
    "    \n",
    "    income_list = np.array(income_list)\n",
    "    income_list_norm = np.array(income_list)/ np.max(income_list)\n",
    "    \n",
    "    pop = np.array(fullpops[msa])/sum(fullpops[msa])\n",
    "\n",
    "    \n",
    "    kernel = scipy.stats.gaussian_kde(income_list, weights=pop)\n",
    "    kde[msa] = kernel\n",
    "\n",
    "    pdf_kde= kernel.pdf(x)/sp.integrate.simps(kernel.pdf(x), x)\n",
    "\n",
    "    \n",
    "#     x = np.linspace(0,1.2*max(income_list),100)\n",
    "    \n",
    "    datx, daty = x, pdf_kde\n",
    "\n",
    "    \n",
    "    \n",
    "    kl_values.append(kl_divergence(daty_bc, daty))\n",
    "    \n",
    "    val = list(ks_2samp(income_list_big_city_norm, income_list_norm))\n",
    "    ks_values.append(val[0])\n"
   ]
  },
  {
   "cell_type": "code",
   "execution_count": null,
   "metadata": {},
   "outputs": [],
   "source": [
    "plt.figure()\n",
    "plt.plot(list(city_pops.values()), kl_values, 'o', markersize=2)\n",
    "plt.xlabel(\"City Population\")\n",
    "plt.ylabel('KL-value')\n",
    "\n",
    "plt.xscale(\"log\")\n",
    "plt.show()\n",
    "\n",
    "corr, pval = pearsonr(list(city_pops.values()), kl_values)\n",
    "print('Pearsons correlation: %.3f' % corr)\n",
    "print('P-value: %.3f' % pval)\n",
    "\n",
    "cor, pval1 = spearmanr(list(city_pops.values()), kl_values)\n",
    "print('Spearmans correlation: %.3f' % cor)\n",
    "print('P-value: %.3f' % pval1)"
   ]
  },
  {
   "cell_type": "markdown",
   "metadata": {},
   "source": [
    "### KS test\n",
    "Run test comparing every MSA to one typical large city and plot the metric against city size. "
   ]
  },
  {
   "cell_type": "code",
   "execution_count": null,
   "metadata": {},
   "outputs": [],
   "source": [
    "plt.figure()\n",
    "plt.plot(list(city_pops.values()), ks_values, 'o', markersize=2)\n",
    "plt.xlabel(\"City Population\")\n",
    "plt.ylabel('KS-value')\n",
    "\n",
    "plt.xscale(\"log\")\n",
    "plt.show()\n",
    "\n",
    "corr, pval = pearsonr(list(city_pops.values()), ks_values)\n",
    "print('Pearsons correlation: %.3f' % corr)\n",
    "print('P-value: %.3f' % pval)\n",
    "\n",
    "cor, pval1 = spearmanr(list(city_pops.values()), ks_values)\n",
    "print('Spearmans correlation: %.3f' % cor)\n",
    "print('P-value: %.3f' % pval1)"
   ]
  },
  {
   "cell_type": "code",
   "execution_count": null,
   "metadata": {},
   "outputs": [],
   "source": []
  },
  {
   "cell_type": "markdown",
   "metadata": {},
   "source": [
    "## Compare shapes of distributions by rescaling to normalize peak point"
   ]
  },
  {
   "cell_type": "code",
   "execution_count": null,
   "metadata": {},
   "outputs": [],
   "source": [
    "# find mean peak point, toward which to renormalize\n",
    "\n",
    "max_xs = []\n",
    "max_ys = []\n",
    "x_lim = 0\n",
    "y_lim_b,y_lim_t = 1.,0.\n",
    "for msa in kde_distr:\n",
    "    x,y = kde_distr[msa]\n",
    "    x = np.array(x)\n",
    "    y = np.array(y)\n",
    "    max_x,max_y = x[np.argmax(y)],np.max(y)\n",
    "    max_xs.append(max_x)\n",
    "    max_ys.append(max_y)\n",
    "    x_bound = np.max(x)\n",
    "    if x_bound>x_lim:\n",
    "        x_lim = x_bound\n",
    "    y_bound_b = np.min(y)\n",
    "    if y_bound_b<y_lim_b:\n",
    "        y_lim_b = y_bound_b\n",
    "    y_bound_t = np.max(y)\n",
    "    if y_bound_t>y_lim_t:\n",
    "        y_lim_t = y_bound_t    \n",
    "    \n",
    "    \n",
    "mean_max_x = np.mean(np.array(max_xs))\n",
    "mean_max_y = np.mean(np.array(max_ys))\n",
    "\n",
    "\n",
    "scaled_distr = {}\n",
    "\n",
    "sorted_cpops = {k: v for k, v in sorted(city_pops.items(), key=lambda item: item[1])}\n",
    "# for msa in sorted_cpops:\n",
    "#     x,y = kde_distr[msa]\n",
    "#     x = np.array(x)\n",
    "#     y = np.array(y)\n",
    "#     max_x,max_y = x[np.argmax(y)],np.max(y)\n",
    "#     newx,newy = x*(mean_max_x/max_x),y*(mean_max_y/max_y)\n",
    "#     scaled_distr[msa] = newx,newy\n",
    "#     pop = city_pops[msa]\n",
    "#     lbl = \"pop: \"+str(pop)\n",
    "#     plt.figure()\n",
    "#     plt.plot(newx,newy,label=lbl)\n",
    "#     plt.xlim(right=x_lim)\n",
    "#     plt.legend()\n",
    "#     plt.show()\n",
    "#     plt.close()\n",
    "\n",
    "    \n",
    "sorted_cpops_arr = np.array(list(sorted_cpops.keys()))\n",
    "n_cities = len(list(sorted_cpops.keys()))\n",
    "\n",
    "fig = plt.figure()\n",
    "def animate(i):\n",
    "    #label = label + ': G=' + str(round(gini(population), 2))\n",
    "    plt.cla()\n",
    "    msa = sorted_cpops_arr[i]\n",
    "    x,y = kde_distr[msa]\n",
    "    x = np.array(x)\n",
    "    y = np.array(y)\n",
    "    max_x,max_y = x[np.argmax(y)],np.max(y)\n",
    "    newx,newy = x*(mean_max_x/max_x),y*(mean_max_y/max_y)\n",
    "    scaled_distr[msa] = newx,newy\n",
    "    pop = city_pops[msa]\n",
    "    lbl = \"pop: \"+str(pop)\n",
    "    plt.plot(newx,newy,label=lbl)\n",
    "    plt.xscale('log')\n",
    "    plt.yscale('log')\n",
    "    plt.xlim(right=x_lim)\n",
    "    plt.ylim(bottom=y_lim_b,top=y_lim_t)\n",
    "    plt.legend()\n",
    "    plt.grid(True)\n",
    "\n",
    "anim = FuncAnimation(fig, animate, #init_func=init,\n",
    "                               frames=n_cities)#), interval=20)#, blit=True)\n",
    "                               #frames=int(n_cities/100))#), interval=20)#, blit=True)\n",
    "\n",
    "HTML(anim.to_jshtml())\n",
    "    "
   ]
  },
  {
   "cell_type": "code",
   "execution_count": null,
   "metadata": {},
   "outputs": [],
   "source": []
  },
  {
   "cell_type": "code",
   "execution_count": null,
   "metadata": {},
   "outputs": [],
   "source": [
    "for msa in income_lists:\n",
    "    inc = income_lists[msa]\n",
    "    x = np.linspace(min(inc),max(inc),50)\n",
    "    fit_alpha, fit_loc, fit_beta=scipy.stats.gamma.fit(inc)\n",
    "    print(fit_alpha,fit_loc,fit_beta)\n",
    "    plt.figure()\n",
    "    pdf = scipy.stats.gamma(fit_alpha,fit_loc,fit_beta).pdf\n",
    "    plt.plot(x,pdf(x),'-')\n",
    "    plt.show()\n",
    "    plt.close()"
   ]
  },
  {
   "cell_type": "code",
   "execution_count": null,
   "metadata": {},
   "outputs": [],
   "source": [
    "from mpl_toolkits import mplot3d\n",
    "\n",
    "prob_all = []\n",
    "income_all = []\n",
    "city_pop_all = []\n",
    "\n",
    "\n",
    "\n",
    "i=0\n",
    "j = 1\n",
    "for msa in kde_distr:\n",
    "    j += 1\n",
    "    #print(j)\n",
    "    # skip over anything not a MSA\n",
    "    if str(msa) in micro_ids:\n",
    "        continue\n",
    "    i += 1\n",
    "    #print(i)\n",
    "    print(i/384.)\n",
    "    incomes,prob = kde_distr[msa]\n",
    "    incomes = incomes#[:-1]\n",
    "    #normed_np = [float(i)/sum(num_people) for i in num_people]\n",
    "    #num_people = normed_np\n",
    "    #num_people_cleaned = []\n",
    "    city_pop = city_pops[msa]\n",
    "    #skip over smaller cities with sparse data\n",
    "#     if city_pop < 0.25*10**7:\n",
    "#         continue\n",
    "    for (prob,inc) in zip(prob,incomes):\n",
    "        if not prob == 0:# and ctinc < 150000:\n",
    "            prob_all.append(ctpop)\n",
    "            income_all.append(ctinc)\n",
    "            city_pop_all.append(np.log(city_pop))\n",
    "print(\"finished\")\n",
    "\n",
    "fig2 = plt.figure()\n",
    "#ax = plt.axes(projection='3d')\n",
    "\n",
    "ax2 = fig2.gca(projection='3d')\n",
    "#city_pop_all.reverse()\n",
    "# X, Y = np.meshgrid(city_pop_all, income_all)\n",
    "# Z = ?\n",
    "# ax2.plot_wireframe(X,Y,num_people_all)#,cmap='viridis',linewidth=0.2, antialiased=True)\n",
    "ax2.plot_trisurf(city_pop_all,income_all, prob_all,cmap='viridis',linewidth=0.2, antialiased=True)\n",
    "\n",
    "\n",
    "\n",
    "\n",
    "\n",
    "ax2.set_xlabel('log(City Population)')\n",
    "ax2.set_ylabel('Income')\n",
    "ax2.set_zlabel('# people')\n",
    "ax2.set_title(\"income distributions across city size\")\n",
    "ax2.view_init(30,10)\n",
    "#TODO: Plot fits from A) null model of two independent scaling variables B) test model where two dependent variables are correlated\n",
    "plt.show()\n",
    "\n",
    "#TODO: Better visualization: Polygon add_collection"
   ]
  },
  {
   "cell_type": "markdown",
   "metadata": {},
   "source": [
    "# Reproduce Decile Scaling result"
   ]
  },
  {
   "cell_type": "code",
   "execution_count": null,
   "metadata": {},
   "outputs": [],
   "source": [
    "# maps int (1-10) to pair (list of income_pp,list of city size)\n",
    "deciles = {}\n",
    "for i in range(1,11):\n",
    "    deciles[i] = ([],[])\n",
    "\n",
    "for msa in income_lists:\n",
    "    if str(msa) in metro_ids:\n",
    "        income_list = income_lists[msa]\n",
    "        pop_list = fullpops[msa]\n",
    "        city_pop = city_pops[msa]\n",
    "\n",
    "        #split into deciles\n",
    "        sum_pop = sum(pop_list)\n",
    "        pop_cutoffs = [sum_pop*float(i)/10. for i in range(1,11)]\n",
    "        cumulative_pop = 0.\n",
    "        current_decile = 1\n",
    "        # summed population and income for current decile\n",
    "        decile_pop = 0.\n",
    "        decile_inc = 0.\n",
    "        # sort by income\n",
    "        income_list,pop_list = (list(t) for t in zip(*sorted(zip(income_list, pop_list))))\n",
    "        for ctpop, ctinc in zip(pop_list,income_list):\n",
    "            cumulative_pop += ctpop\n",
    "            decile_pop += ctpop\n",
    "            decile_inc += ctinc*ctpop\n",
    "            if cumulative_pop >= pop_cutoffs[(current_decile - 1)]:\n",
    "    #             if cumulative_pop == pop_cutoffs[9]:\n",
    "    #                 print(\"finish reached\")\n",
    "                current_decile += 1\n",
    "                #store in deciles\n",
    "                correction = (sum_pop/10.)/(decile_pop)\n",
    "                decile_inc *= correction \n",
    "                #normalize to per person metric (equivalent to diving by N in scaling equation)\n",
    "#                 decile_inc *= 1./sum_pop\n",
    "                #print(correction)\n",
    "#                 print(\"Decile:\",decile_pop,\"full/10:\",(sum_pop/10.),\"with correction\",decile_pop*correction)\n",
    "                \n",
    "                deciles[(current_decile-1)][0].append(decile_inc)\n",
    "                deciles[(current_decile-1)][1].append(city_pop)\n",
    "                #reset\n",
    "                decile_pop = 0\n",
    "                decile_inc = 0\n",
    "\n",
    "#         sum_inc = np.sum(np.array(income_list)*np.array(pop))\n",
    "\n",
    "        \n",
    "def standardModelFunc(x,y0,delta):\n",
    "    return y0*(x**(1+delta))\n",
    "def standardLogResidual(params, x, true_data):\n",
    "    model = standardModelFunc(x,params['y0'],params['delta'])\n",
    "    return np.log(true_data)-np.log(model)\n",
    "        \n",
    "def standardLogMod(x,logy0,delta):\n",
    "    return logy0+x*(1+delta)\n",
    "\n",
    "\n",
    "\n",
    "plt.rcParams.update({'font.size': 14})\n",
    "\n",
    "    \n",
    "plt.figure()\n",
    "ax = plt.gca()\n",
    "decileFits = {}\n",
    "decileModels = {}\n",
    "decileParams = {}\n",
    "for i in range(1,11):\n",
    "    x= list(deciles[i][1])\n",
    "    y = list(deciles[i][0])\n",
    "#     print(\"decile:\",i,\"x,y = \",x,y)\n",
    "    plt.scatter(x,y,s=2)\n",
    "    decileParams[i] = lmfit.Parameters()\n",
    "    decileParams[i].add_many(('y0',8*list(y)[0]/list(x)[0],True,0,1),('delta',0.,True))\n",
    "    \n",
    "\n",
    "    decileModels[i] = lmfit.Model(standardModelFunc)\n",
    "    decileFits[i] = lmfit.minimize(standardLogResidual, decileParams[i], args=(x, y))\n",
    "    decileParams[i] = decileFits[i].params\n",
    "    \n",
    "    #using curve_fit\n",
    "    logx = np.log(x)\n",
    "    logy = np.log(y)\n",
    "    coeff, var = curve_fit(standardLogMod, logx, logy)\n",
    "    \n",
    "#     lbl = \"decile \"+str(i)+\", $\\\\Beta = $\"+str(round((1.+coeff[1]),3))#+\"$\"\n",
    "    lbl = \"decile {}; $\\\\beta$ = {}\".format(str(i),str(round((1.+coeff[1]),3)))\n",
    "#     lbl = r'$test {}$'.format(coeff[1])\n",
    "    print(coeff)\n",
    "    fity = np.exp(np.array(coeff[0],dtype=np.float128))*x**(1+coeff[1])\n",
    "    #print(x,fity)\n",
    "    ax.set_yscale(\"log\")\n",
    "    ax.set_xscale(\"log\")\n",
    "    ax.plot(x, fity,'-',label=lbl,markersize=1)\n",
    "    plt.xlabel(\"City Population\")\n",
    "    plt.ylabel(\"Summed Decile Income (USD)\")\n",
    "#     plt.ylabel(\"Decile-Averaged Per-Person Income (USD)\")\n",
    "    #ax.plot(x,decileModels[i].eval(decileParams[i],x=x),'--',label=lbl)\n",
    "    \n",
    "\n",
    "\n",
    "handles, labels = ax.get_legend_handles_labels()\n",
    "# ax.legend()\n",
    "plt.gca().legend(reversed(handles), reversed(labels),loc='center left', bbox_to_anchor=(1, 0.5))\n",
    "\n",
    "# plt.legend()\n",
    "\n",
    "\n",
    "# TODO: Redo with kde distributions\n",
    "\n",
    "\n",
    "    \n",
    "#plt.plot(np.log(deciles[1][1]),np.log([deciles[1][0]]))"
   ]
  },
  {
   "cell_type": "markdown",
   "metadata": {},
   "source": [
    "# Reproduce Decile Scaling result using kde distributions"
   ]
  },
  {
   "cell_type": "code",
   "execution_count": null,
   "metadata": {},
   "outputs": [],
   "source": [
    "\n",
    "class custom_distribution(scipy.stats.rv_continuous):\n",
    "    def _pdf(self, x, msa):\n",
    "        #print(\"in pdf,x = \",x,\"msa=\",msa)\n",
    "        try:\n",
    "            ret = kde_pdfs[msa](x)\n",
    "        except TypeError:\n",
    "            ret = kde_pdfs[msa[0]](x)\n",
    "        #print(\"ret=\",ret)\n",
    "        return ret\n",
    "\n",
    "\n",
    "\n",
    "# maps int (1-10) to pair (list of income_pp,list of city size)\n",
    "deciles = {}\n",
    "for i in range(1,11):\n",
    "    deciles[i] = ([],[])\n",
    "\n",
    "for msa in income_lists:\n",
    "    distribution = custom_distribution(momtype=0,a=0,b=3.*max(income_lists[msa]))\n",
    "    if str(msa) in metro_ids:\n",
    "        \n",
    "        city_pop = city_pops[msa]\n",
    "        decile_pop = city_pop/10.\n",
    "        lb = 0\n",
    "        for i in range(1,11):\n",
    "#             print(i) \n",
    "            \n",
    "            ub = distribution.ppf(.1*i,msa)\n",
    "            #print(end_h)\n",
    "            pdf = kde_pdfs[msa]\n",
    "            decile_inc = 10.*distribution.expect(lambda x: x,args=([msa]),lb=lb,ub=ub)*decile_pop\n",
    "            if np.isnan(decile_inc) or decile_inc == 0 or decile_inc == 0.:\n",
    "                print(msa,i,decile_inc)\n",
    "                print(lb,ub)\n",
    "#             print(\"mean_inc\",decile_inc)\n",
    "#             print(\"lb=\",lb,\"ub=\",ub)\n",
    "            \n",
    "            \n",
    "            lb = ub\n",
    "            \n",
    "            deciles[i][0].append(decile_inc)\n",
    "            deciles[i][1].append(city_pop)\n",
    "        \n",
    "def standardModelFunc(x,y0,delta):\n",
    "    return y0*(x**(1+delta))\n",
    "def standardLogResidual(params, x, true_data):\n",
    "    model = standardModelFunc(x,params['y0'],params['delta'])\n",
    "    return np.log(true_data)-np.log(model)\n",
    "        \n",
    "def standardLogMod(x,logy0,delta):\n",
    "    return logy0+x*(1+delta)\n",
    "\n",
    "\n",
    "plt.rcParams.update({'font.size': 14})\n",
    "    \n",
    "plt.figure()\n",
    "ax = plt.gca()\n",
    "decileFits = {}\n",
    "decileModels = {}\n",
    "decileParams = {}\n",
    "for i in range(1,11):\n",
    "    x= list(deciles[i][1])\n",
    "    y = list(deciles[i][0])\n",
    "    #print(\"decile:\",i,\"x,y = \",x,y)\n",
    "    plt.scatter(x,y,s=2)\n",
    "    decileParams[i] = lmfit.Parameters()\n",
    "    decileParams[i].add_many(('y0',8*list(y)[0]/list(x)[0],True,0,1),('delta',0.,True))\n",
    "    \n",
    "\n",
    "    decileModels[i] = lmfit.Model(standardModelFunc)\n",
    "    decileFits[i] = lmfit.minimize(standardLogResidual, decileParams[i], args=(x, y))\n",
    "    decileParams[i] = decileFits[i].params\n",
    "    \n",
    "    #using curve_fit\n",
    "    logx = np.log(x)\n",
    "    logy = np.log(y)\n",
    "    coeff, var = curve_fit(standardLogMod, logx, logy)\n",
    "    \n",
    "    lbl = \"decile \"+str(i)+\", Beta = \"+str(round((1.+coeff[1]),3))\n",
    "    print(coeff)\n",
    "    fity = np.exp(np.array(coeff[0],dtype=np.float128))*x**(1+coeff[1])\n",
    "    #print(x,fity)\n",
    "    ax.plot(x, fity,'--',label=lbl,markersize=1)\n",
    "    plt.xlabel(\"City Population\")\n",
    "    plt.ylabel(\"\")\n",
    "    #ax.plot(x,decileModels[i].eval(decileParams[i],x=x),'--',label=lbl)\n",
    "    \n",
    "\n",
    "ax.set_yscale(\"log\")\n",
    "ax.set_xscale(\"log\")\n",
    "plt.legend()\n",
    "\n",
    "\n",
    "# TODO: Redo with kde distributions\n",
    "\n",
    "\n",
    "    \n",
    "#plt.plot(np.log(deciles[1][1]),np.log([deciles[1][0]]))"
   ]
  },
  {
   "cell_type": "code",
   "execution_count": null,
   "metadata": {},
   "outputs": [],
   "source": []
  }
 ],
 "metadata": {
  "kernelspec": {
   "display_name": "Python 3",
   "language": "python",
   "name": "python3"
  },
  "language_info": {
   "codemirror_mode": {
    "name": "ipython",
    "version": 3
   },
   "file_extension": ".py",
   "mimetype": "text/x-python",
   "name": "python",
   "nbconvert_exporter": "python",
   "pygments_lexer": "ipython3",
   "version": "3.8.5"
  }
 },
 "nbformat": 4,
 "nbformat_minor": 4
}
